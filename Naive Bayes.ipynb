{
 "cells": [
  {
   "cell_type": "markdown",
   "id": "c7978ca2-b5b2-4a95-9612-1c9f2abef5b6",
   "metadata": {},
   "source": [
    "# Naive Bayes Classifier (fit, predict, and predict probabilities)"
   ]
  },
  {
   "cell_type": "code",
   "execution_count": 62,
   "id": "708e7794-ba48-4c23-a102-592d4853e927",
   "metadata": {},
   "outputs": [],
   "source": [
    "class naivebayes:\n",
    "    \n",
    "    def __init__(self):\n",
    "        self.var_mean = {}\n",
    "        self.prob_c = {}\n",
    "        self.attribute_probabilities = []\n",
    "        \n",
    "    #Predicts labels given a set of vectors, either numpy arrays or pandas series\n",
    "    def gauss_predict(self, vectors):\n",
    "        import numpy as np\n",
    "        self.attribute_probabilities = []\n",
    "        \n",
    "        #calculate datapoints' probability given a label of class c\n",
    "        labels = []\n",
    "        for i in self.prob_c.keys():\n",
    "            attribute_probability = []\n",
    "            for n in range(len(vectors[0])):\n",
    "                var = self.var_mean[i][n][0]\n",
    "                mean = self.var_mean[i][n][1]\n",
    "                #I split up the calculation below so that it was tidier/easier to read\n",
    "                coefficient = 1.0 / ((2.0*np.pi*var)**0.5)\n",
    "                gauss = lambda x:coefficient * (np.e**(-((x - mean)**2.0)/(2.0*var)))\n",
    "                #applies the gaussian probability to each datapoint in an attribute\n",
    "                ap = [gauss(d) for d in vectors.take(n,1)]\n",
    "                attribute_probability.append(ap)\n",
    "            #finds the product of all conditionally independent probabilities\n",
    "            attribute_probability = np.prod(attribute_probability,axis = 0)\n",
    "            #multiplies each probability by the class prior probability\n",
    "            attribute_probability = attribute_probability * self.prob_c[i]\n",
    "            self.attribute_probabilities.append(attribute_probability)\n",
    "        attribute_probabilities = np.array(self.attribute_probabilities)\n",
    "        #Prediction \n",
    "        classes = [i for i in self.prob_c.keys()]\n",
    "        for i in range(len(attribute_probabilities[0])):\n",
    "            biggest_prob = max(attribute_probabilities.take(i,1))\n",
    "            label = int(np.where(attribute_probabilities == max(attribute_probabilities.take(i,1)))[0][0])\n",
    "            labels.append(classes[label])\n",
    "        return labels \n",
    "    \n",
    "    #shows the probabilities for each class for each datapoint\n",
    "    def predict_proba(self, vectors):\n",
    "        import numpy as np\n",
    "        self.gauss_predict(vectors)\n",
    "        attribute_probabilities = np.array(self.attribute_probabilities)\n",
    "        normalized_ap = []\n",
    "        for i in range(len(attribute_probabilities[0])):\n",
    "            total_prob = sum(attribute_probabilities.take(i,1))\n",
    "            normalized_ap.append(attribute_probabilities.take(i,1)/total_prob)\n",
    "        probs = np.array([[i[0],i[1]] for i in normalized_ap])\n",
    "        return probs\n",
    "    \n",
    "  \n",
    "    \n",
    "    #X and y inputs must be pandas dataframe or numpy arrays    \n",
    "    def fit(self,X,y, mle = True):\n",
    "        import numpy as np\n",
    "        labels = np.unique(y)\n",
    "     \n",
    "        #estimate class priors\n",
    "        probabilities_of_c = [float(sum(c == y))/len(y) for c in labels]\n",
    "        #append class probabilities into predefined dictionary\n",
    "        for n,label in enumerate(labels):\n",
    "            self.prob_c[label] = probabilities_of_c[n]\n",
    "        \n",
    "                   \n",
    "        #variance and mean for each attribute in a class\n",
    "        for label in labels:\n",
    "            self.var_mean[label] = []\n",
    "            matching = X[np.where(y == label)]\n",
    "            for i in range(len(matching[0])):\n",
    "                # m is the \"coefficient\" for the maximum likelihood estimation of variance\n",
    "                if mle == True:\n",
    "                    m = (len(matching.take(i,1)) - 1 )/ len(matching.take(i,1))\n",
    "                else:\n",
    "                    m = 1\n",
    "                var = np.var(matching.take(i,1), ddof = 1) * m\n",
    "                mean = np.mean(matching.take(i,1))\n",
    "                self.var_mean[label].append([var,mean])       \n",
    "                "
   ]
  },
  {
   "cell_type": "markdown",
   "id": "1b0e2c4b-a980-4806-a530-943e3f32698c",
   "metadata": {},
   "source": [
    "Create an instance of the naive bayes classifier"
   ]
  },
  {
   "cell_type": "code",
   "execution_count": null,
   "id": "a9905c25-6c68-41f0-9564-c2e068cab9d1",
   "metadata": {},
   "outputs": [],
   "source": []
  },
  {
   "cell_type": "markdown",
   "id": "444e3cc5-d36e-4f97-a117-186249620cb4",
   "metadata": {},
   "source": [
    "# Import data and scale it"
   ]
  },
  {
   "cell_type": "code",
   "execution_count": 2,
   "id": "799ff97b-16c1-4012-8b2b-9fe86ea44384",
   "metadata": {},
   "outputs": [],
   "source": [
    "import pandas as pd\n",
    "df = pd.read_csv('winequality-red.csv', delimiter = ';')\n",
    "q = lambda x:1 if x>= 7 else 0\n",
    "df['binary_quality'] = df['quality'].apply(q)\n",
    "data = df[['fixed acidity', 'volatile acidity', 'citric acid', 'residual sugar',\n",
    "       'chlorides', 'free sulfur dioxide', 'total sulfur dioxide', 'density',\n",
    "       'pH', 'sulphates', 'alcohol']]\n",
    "labels = df['binary_quality']\n",
    "#choice_data = df[['volatile acidity', 'citric acid', 'residual sugar',\n",
    " #                 'free sulfur dioxide','total sulfur dioxide', 'pH', 'sulphates']]\n",
    "from sklearn.preprocessing import scale, StandardScaler\n",
    "#scaler = StandardScaler()\n",
    "scaled_data = scale(data, axis = 0)\n",
    "#scaled_data = scaler.fit_transform(choice_data)"
   ]
  },
  {
   "cell_type": "code",
   "execution_count": 131,
   "id": "c5e0d790-4100-4374-808a-861ffb859bc8",
   "metadata": {},
   "outputs": [
    {
     "data": {
      "image/png": "[encoded data removed]",
      "text/plain": [
       "<Figure size 864x504 with 10 Axes>"
      ]
     },
     "metadata": {},
     "output_type": "display_data"
    }
   ],
   "source": [
    "plt.figure(figsize = (12,7))\n",
    "#plt.subplot(4,3,1)\n",
    "columns = data.columns\n",
    "for i in range(1,11):\n",
    "    plt.subplot(4,3,i)\n",
    "    sns.histplot(data = data, x = columns[i], common_norm = True)"
   ]
  },
  {
   "cell_type": "code",
   "execution_count": null,
   "id": "a110fb8d-9f7a-4738-b0fd-13998bf0663c",
   "metadata": {},
   "outputs": [],
   "source": []
  },
  {
   "cell_type": "code",
   "execution_count": null,
   "id": "f56b0209-2a02-41bb-a600-713153a01729",
   "metadata": {},
   "outputs": [],
   "source": []
  },
  {
   "cell_type": "code",
   "execution_count": null,
   "id": "7e9cb2e9-8684-4357-a34d-b1217de012ef",
   "metadata": {},
   "outputs": [],
   "source": []
  },
  {
   "cell_type": "code",
   "execution_count": null,
   "id": "eae40dbe-2688-4d68-b733-874744713eb0",
   "metadata": {},
   "outputs": [],
   "source": []
  },
  {
   "cell_type": "code",
   "execution_count": null,
   "id": "caf56fc4-a7fd-4146-88b9-415636fa1e29",
   "metadata": {},
   "outputs": [],
   "source": []
  },
  {
   "cell_type": "markdown",
   "id": "b1b46596-32ea-417b-b606-463ce818bc39",
   "metadata": {},
   "source": [
    "I was doing a bunch of different checks on my scores. You can mostly ignore this section"
   ]
  },
  {
   "cell_type": "code",
   "execution_count": 106,
   "id": "eb50a0f5-a303-438e-9c66-c09ab629c31e",
   "metadata": {},
   "outputs": [],
   "source": [
    "from sklearn.metrics import precision_score, recall_score\n",
    "from sklearn.naive_bayes import GaussianNB\n",
    "clf = GaussianNB()\n",
    "nb = naivebayes()\n",
    "X = scaled_data\n",
    "y = df['binary_quality']\n",
    "from sklearn.model_selection import StratifiedKFold\n",
    "from sklearn.model_selection import RepeatedStratifiedKFold\n",
    "rskf = RepeatedStratifiedKFold(n_splits=10, n_repeats=10,\n",
    "    random_state=34)\n",
    "skp = []\n",
    "myp = []\n",
    "skr = []\n",
    "myr = []\n",
    "skprob = []\n",
    "myprob = []\n",
    "for train_index, test_index in rskf.split(X, y):\n",
    "    X_train, X_test = X[train_index], X[test_index]\n",
    "    y_train, y_test = y[train_index], y[test_index] \n",
    "    clf.fit(X_train, y_train)\n",
    "    nb.fit(X_train,y_train)\n",
    "    sk_y_pred = clf.predict(X_test)\n",
    "    my_y_pred = nb.gauss_predict(X_test)\n",
    "    skprob.append(clf.predict_proba(X_test))\n",
    "    myprob.append(nb.predict_proba(X_test))\n",
    "    skp.append(precision_score(y_test, sk_y_pred))\n",
    "    myp.append(precision_score(y_test, my_y_pred))\n",
    "    skr.append(recall_score(y_test, sk_y_pred))\n",
    "    myr.append(recall_score(y_test, my_y_pred))\n",
    "  "
   ]
  },
  {
   "cell_type": "code",
   "execution_count": 107,
   "id": "1fa63231-fd57-43a5-9e8d-c4367b9cedf7",
   "metadata": {},
   "outputs": [],
   "source": [
    "myp_nomle = []\n",
    "myr_nomle = []\n",
    "myprob_nomle = []\n",
    "for train_index, test_index in rskf.split(X, y):\n",
    "    X_train, X_test = X[train_index], X[test_index]\n",
    "    y_train, y_test = y[train_index], y[test_index] \n",
    "    nb.fit(X_train,y_train, mle = False)\n",
    "    my_y_pred = nb.gauss_predict(X_test)\n",
    "    myprob_nomle.append(nb.predict_proba(X_test))\n",
    "    myp_nomle.append(precision_score(y_test, my_y_pred))\n",
    "    myr_nomle.append(recall_score(y_test, my_y_pred))\n",
    "    "
   ]
  },
  {
   "cell_type": "code",
   "execution_count": 108,
   "id": "73f4a91b-e9fc-41d4-a442-7f564c1a1102",
   "metadata": {},
   "outputs": [
    {
     "data": {
      "image/png": "[encoded data removed]",
      "text/plain": [
       "<Figure size 864x504 with 1 Axes>"
      ]
     },
     "metadata": {},
     "output_type": "display_data"
    }
   ],
   "source": [
    "import numpy as np\n",
    "import matplotlib.pyplot as plt\n",
    "import seaborn as sns\n",
    "import pandas as pd\n",
    "from scipy.stats import sem\n",
    "sns.set_style('dark')\n",
    "sk_error = sem(skp)\n",
    "my_error = sem(myp) \n",
    "my_error_nomle = sem(myp_nomle) \n",
    "height = [np.mean(skp),np.mean(myp_nomle),np.mean(myp)]\n",
    "plt.figure(figsize = (12,7))\n",
    "plt.bar(x = [1,2,3],height = height, yerr = [sk_error, my_error_nomle, my_error], \n",
    "        capsize = 5, align = 'center', width = 0.5)\n",
    "plt.xticks(ticks = [1,2,3], labels = [\"Scikit Naive Bayes\",\"Naive Bayes w/o MLE\", 'Naive Bayes w/ MLE'], \n",
    "           fontsize = 14)\n",
    "plt.ylabel(\"Precision\", fontsize = 14)\n",
    "plt.xlabel(\"Implementation\", fontsize = 20)\n",
    "plt.title('Average Precision',fontsize = 20)\n",
    "plt.annotate('Mean $\\pm$ SEM, \\n n-folds = 10',xy = (1.35,0.2), fontsize = 14)\n",
    "plt.tight_layout()\n",
    "#plt.savefig('Barplot SK vs NB w MLE.png',bbox_inches='tight')"
   ]
  },
  {
   "cell_type": "code",
   "execution_count": 109,
   "id": "e802872b-473b-4698-a572-358c6df8675e",
   "metadata": {},
   "outputs": [
    {
     "data": {
      "image/png": "[encoded data removed]",
      "text/plain": [
       "<Figure size 864x504 with 1 Axes>"
      ]
     },
     "metadata": {},
     "output_type": "display_data"
    }
   ],
   "source": [
    "sk_error = sem(skr)\n",
    "my_error = sem(myr) \n",
    "my_error_nomle = sem(myr_nomle) \n",
    "height = [np.mean(skr),np.mean(myr_nomle),np.mean(myr)]\n",
    "plt.figure(figsize = (12,7))\n",
    "plt.bar(x = [1,2,3],height = height, yerr = [sk_error, my_error_nomle, my_error], \n",
    "        capsize = 5, align = 'center', width = 0.5)\n",
    "plt.xticks(ticks = [1,2,3], labels = [\"Scikit Naive Bayes\", 'Naive Bayes w/o MLE',\"Naive Bayes with MLE\"], \n",
    "           fontsize = 14)\n",
    "plt.ylabel(\"Recall\", fontsize = 14)\n",
    "plt.xlabel(\"Implementation\", fontsize = 20)\n",
    "plt.title('Average Recall',fontsize = 20)\n",
    "plt.annotate('Mean $\\pm$ SEM, \\n n-folds = 10',xy = (1.35,0.2), fontsize = 14)\n",
    "plt.tight_layout()"
   ]
  },
  {
   "cell_type": "code",
   "execution_count": null,
   "id": "2b0a5dbf-1fb7-4fb5-b2dc-3c269336dd85",
   "metadata": {},
   "outputs": [],
   "source": []
  },
  {
   "cell_type": "code",
   "execution_count": 152,
   "id": "07b2653b-b860-4507-a5d6-07022bb56d09",
   "metadata": {},
   "outputs": [
    {
     "name": "stdout",
     "output_type": "stream",
     "text": [
      "\\begin{tabular}{lrr}\n",
      "\\toprule\n",
      "              Method &  Mean Precision &      SEM \\\\\n",
      "\\midrule\n",
      "  Scikit Naive Bayes &        0.443412 & 0.006499 \\\\\n",
      " Naive Bayes w/o MLE &        0.442805 & 0.006500 \\\\\n",
      "Naive Bayes with MLE &        0.443412 & 0.006499 \\\\\n",
      "\\bottomrule\n",
      "\\end{tabular}\n",
      "\n"
     ]
    },
    {
     "name": "stderr",
     "output_type": "stream",
     "text": [
      "/var/folders/hl/t7n7c3hn5cg8q9rg7d8dp3lh0000gn/T/ipykernel_85098/39771918.py:10: FutureWarning: In future versions `DataFrame.to_latex` is expected to utilise the base implementation of `Styler.to_latex` for formatting and rendering. The arguments signature may therefore change. It is recommended instead to use `DataFrame.style.to_latex` which also contains additional functionality.\n",
      "  print(avg_p_table.to_latex(index=False))\n"
     ]
    }
   ],
   "source": [
    "p_table = pd.DataFrame({'n-fold':[i for i in range(1,101)],'Scikit':skp,\n",
    "                        'Naive Bayes w/o MLE':myp_nomle,\n",
    "                        'Naive Bayes w/ MLE':myp})\n",
    "p_table.reset_index(drop = True, inplace = True)\n",
    "avg_p_table = pd.DataFrame({'Method':[\"Scikit Naive Bayes\", \n",
    "                            'Naive Bayes w/o MLE',\"Naive Bayes with MLE\"],\n",
    "                'Mean Precision':[np.mean(skp),np.mean(myp_nomle),np.mean(myp)],\n",
    "                 'SEM':[sem(skp),sem(myp_nomle),sem(myp)]})\n",
    "avg_p_table\n",
    "print(avg_p_table.to_latex(index=False))                    "
   ]
  },
  {
   "cell_type": "code",
   "execution_count": 158,
   "id": "3ecb0a67-4638-4314-9f4f-c633faa76838",
   "metadata": {},
   "outputs": [
    {
     "data": {
      "text/plain": [
       "13"
      ]
     },
     "execution_count": 158,
     "metadata": {},
     "output_type": "execute_result"
    }
   ],
   "source": [
    "sum(p_table['Naive Bayes w/ MLE'] > p_table[ 'Naive Bayes w/o MLE'])"
   ]
  },
  {
   "cell_type": "code",
   "execution_count": 30,
   "id": "044ca033-5582-4f1e-9f5c-348b608c0682",
   "metadata": {},
   "outputs": [
    {
     "data": {
      "text/html": [
       "<div>\n",
       "<style scoped>\n",
       "    .dataframe tbody tr th:only-of-type {\n",
       "        vertical-align: middle;\n",
       "    }\n",
       "\n",
       "    .dataframe tbody tr th {\n",
       "        vertical-align: top;\n",
       "    }\n",
       "\n",
       "    .dataframe thead th {\n",
       "        text-align: right;\n",
       "    }\n",
       "</style>\n",
       "<table border=\"1\" class=\"dataframe\">\n",
       "  <thead>\n",
       "    <tr style=\"text-align: right;\">\n",
       "      <th></th>\n",
       "      <th>n-fold</th>\n",
       "      <th>Scikit</th>\n",
       "      <th>Naive Bayes w/o MLE</th>\n",
       "      <th>Naive Bayes w/ MLE</th>\n",
       "    </tr>\n",
       "  </thead>\n",
       "  <tbody>\n",
       "    <tr>\n",
       "      <th>0</th>\n",
       "      <td>1</td>\n",
       "      <td>0.380952</td>\n",
       "      <td>0.380952</td>\n",
       "      <td>0.380952</td>\n",
       "    </tr>\n",
       "    <tr>\n",
       "      <th>1</th>\n",
       "      <td>2</td>\n",
       "      <td>0.428571</td>\n",
       "      <td>0.428571</td>\n",
       "      <td>0.428571</td>\n",
       "    </tr>\n",
       "    <tr>\n",
       "      <th>2</th>\n",
       "      <td>3</td>\n",
       "      <td>0.863636</td>\n",
       "      <td>0.863636</td>\n",
       "      <td>0.863636</td>\n",
       "    </tr>\n",
       "    <tr>\n",
       "      <th>3</th>\n",
       "      <td>4</td>\n",
       "      <td>0.863636</td>\n",
       "      <td>0.818182</td>\n",
       "      <td>0.863636</td>\n",
       "    </tr>\n",
       "    <tr>\n",
       "      <th>4</th>\n",
       "      <td>5</td>\n",
       "      <td>0.545455</td>\n",
       "      <td>0.545455</td>\n",
       "      <td>0.545455</td>\n",
       "    </tr>\n",
       "    <tr>\n",
       "      <th>5</th>\n",
       "      <td>6</td>\n",
       "      <td>0.772727</td>\n",
       "      <td>0.772727</td>\n",
       "      <td>0.772727</td>\n",
       "    </tr>\n",
       "    <tr>\n",
       "      <th>6</th>\n",
       "      <td>7</td>\n",
       "      <td>0.636364</td>\n",
       "      <td>0.681818</td>\n",
       "      <td>0.636364</td>\n",
       "    </tr>\n",
       "    <tr>\n",
       "      <th>7</th>\n",
       "      <td>8</td>\n",
       "      <td>0.636364</td>\n",
       "      <td>0.636364</td>\n",
       "      <td>0.636364</td>\n",
       "    </tr>\n",
       "    <tr>\n",
       "      <th>8</th>\n",
       "      <td>9</td>\n",
       "      <td>0.727273</td>\n",
       "      <td>0.727273</td>\n",
       "      <td>0.727273</td>\n",
       "    </tr>\n",
       "    <tr>\n",
       "      <th>9</th>\n",
       "      <td>10</td>\n",
       "      <td>0.571429</td>\n",
       "      <td>0.571429</td>\n",
       "      <td>0.571429</td>\n",
       "    </tr>\n",
       "  </tbody>\n",
       "</table>\n",
       "</div>"
      ],
      "text/plain": [
       "   n-fold    Scikit  Naive Bayes w/o MLE  Naive Bayes w/ MLE\n",
       "0       1  0.380952             0.380952            0.380952\n",
       "1       2  0.428571             0.428571            0.428571\n",
       "2       3  0.863636             0.863636            0.863636\n",
       "3       4  0.863636             0.818182            0.863636\n",
       "4       5  0.545455             0.545455            0.545455\n",
       "5       6  0.772727             0.772727            0.772727\n",
       "6       7  0.636364             0.681818            0.636364\n",
       "7       8  0.636364             0.636364            0.636364\n",
       "8       9  0.727273             0.727273            0.727273\n",
       "9      10  0.571429             0.571429            0.571429"
      ]
     },
     "execution_count": 30,
     "metadata": {},
     "output_type": "execute_result"
    }
   ],
   "source": [
    "r_table = pd.DataFrame({'n-fold':[i for i in range(1,11)],'Scikit':skr,\n",
    "                        'Naive Bayes w/o MLE':myr_nomle,\n",
    "                        'Naive Bayes w/ MLE':myr})\n",
    "r_table.reset_index(drop = True, inplace = True)\n",
    "r_table\n"
   ]
  },
  {
   "cell_type": "code",
   "execution_count": 153,
   "id": "1e3010ae-98d0-4c3f-bdd5-f88789f94eb9",
   "metadata": {},
   "outputs": [
    {
     "name": "stdout",
     "output_type": "stream",
     "text": [
      "\\begin{tabular}{lrr}\n",
      "\\toprule\n",
      "              Method &  Mean Recall &      SEM \\\\\n",
      "\\midrule\n",
      "  Scikit Naive Bayes &     0.666623 & 0.009555 \\\\\n",
      " Naive Bayes w/o MLE &     0.663420 & 0.009533 \\\\\n",
      "Naive Bayes with MLE &     0.666623 & 0.009555 \\\\\n",
      "\\bottomrule\n",
      "\\end{tabular}\n",
      "\n"
     ]
    },
    {
     "name": "stderr",
     "output_type": "stream",
     "text": [
      "/var/folders/hl/t7n7c3hn5cg8q9rg7d8dp3lh0000gn/T/ipykernel_85098/696424690.py:6: FutureWarning: In future versions `DataFrame.to_latex` is expected to utilise the base implementation of `Styler.to_latex` for formatting and rendering. The arguments signature may therefore change. It is recommended instead to use `DataFrame.style.to_latex` which also contains additional functionality.\n",
      "  print(avg_r_table.to_latex(index=False))\n"
     ]
    }
   ],
   "source": [
    "avg_r_table = pd.DataFrame({'Method':[\"Scikit Naive Bayes\", \n",
    "                            'Naive Bayes w/o MLE',\"Naive Bayes with MLE\"],\n",
    "                'Mean Recall':[np.mean(skr),np.mean(myr_nomle),np.mean(myr)],\n",
    "                 'SEM':[sem(skr),sem(myr_nomle),sem(myr)]})\n",
    "avg_r_table\n",
    "print(avg_r_table.to_latex(index=False))"
   ]
  },
  {
   "cell_type": "code",
   "execution_count": 161,
   "id": "e9438de4-3f10-456e-8d7b-e4f124bf6a25",
   "metadata": {},
   "outputs": [
    {
     "name": "stdout",
     "output_type": "stream",
     "text": [
      "\\begin{tabular}{lrrrr}\n",
      "\\toprule\n",
      "              Method &  Mean Precision &  Precision SEM &  Mean Recall &  Recall SEM \\\\\n",
      "\\midrule\n",
      "  Scikit Naive Bayes &        0.443412 &       0.006499 &     0.666623 &    0.009555 \\\\\n",
      " Naive Bayes w/o MLE &        0.442805 &       0.006500 &     0.663420 &    0.009533 \\\\\n",
      "Naive Bayes with MLE &        0.443412 &       0.006499 &     0.666623 &    0.009555 \\\\\n",
      "\\bottomrule\n",
      "\\end{tabular}\n",
      "\n"
     ]
    },
    {
     "name": "stderr",
     "output_type": "stream",
     "text": [
      "/var/folders/hl/t7n7c3hn5cg8q9rg7d8dp3lh0000gn/T/ipykernel_85098/3154035216.py:8: FutureWarning: In future versions `DataFrame.to_latex` is expected to utilise the base implementation of `Styler.to_latex` for formatting and rendering. The arguments signature may therefore change. It is recommended instead to use `DataFrame.style.to_latex` which also contains additional functionality.\n",
      "  print(avg_table.to_latex(index=False))\n"
     ]
    }
   ],
   "source": [
    "avg_table = pd.DataFrame({'Method':[\"Scikit Naive Bayes\", \n",
    "                            'Naive Bayes w/o MLE',\"Naive Bayes with MLE\"],\n",
    "                'Mean Precision':[np.mean(skp),np.mean(myp_nomle),np.mean(myp)],\n",
    "                 'Precision SEM':[sem(skp),sem(myp_nomle),sem(myp)]})\n",
    "avg_table['Mean Recall'] = [np.mean(skr),np.mean(myr_nomle),np.mean(myr)]\n",
    "avg_table['Recall SEM'] = [sem(skr),sem(myr_nomle),sem(myr)]\n",
    "avg_table\n",
    "print(avg_table.to_latex(index=False))"
   ]
  },
  {
   "cell_type": "code",
   "execution_count": 94,
   "id": "717289d1-1a99-481c-8ab6-6e7017c3c941",
   "metadata": {},
   "outputs": [],
   "source": [
    "one = {'Scikit':skprob[3][:,1], \n",
    "                        'Naive Bayes w/o MLE':myprob_nomle[3][:,1],\n",
    "                        'Naive Bayes w/ MLE':myprob[3][:,1]}\n",
    "two = {'Scikit':skprob[6][:,1], \n",
    "        'Naive Bayes w/o MLE':myprob_nomle[6][:,1],\n",
    "        'Naive Bayes w/ MLE':myprob[6][:,1]}\n",
    "df_one = pd.DataFrame(one)\n",
    "df_two = pd.DataFrame(two)\n",
    "prob_df = df_one.join(df_two, lsuffix='_caller', rsuffix='_other')"
   ]
  },
  {
   "cell_type": "code",
   "execution_count": 95,
   "id": "3ab0e20c-aa3e-4b6f-804a-d1e1dc914ad8",
   "metadata": {},
   "outputs": [
    {
     "data": {
      "text/html": [
       "<div>\n",
       "<style scoped>\n",
       "    .dataframe tbody tr th:only-of-type {\n",
       "        vertical-align: middle;\n",
       "    }\n",
       "\n",
       "    .dataframe tbody tr th {\n",
       "        vertical-align: top;\n",
       "    }\n",
       "\n",
       "    .dataframe thead th {\n",
       "        text-align: right;\n",
       "    }\n",
       "</style>\n",
       "<table border=\"1\" class=\"dataframe\">\n",
       "  <thead>\n",
       "    <tr style=\"text-align: right;\">\n",
       "      <th></th>\n",
       "      <th>Scikit_caller</th>\n",
       "      <th>Naive Bayes w/o MLE_caller</th>\n",
       "      <th>Naive Bayes w/ MLE_caller</th>\n",
       "      <th>Scikit_other</th>\n",
       "      <th>Naive Bayes w/o MLE_other</th>\n",
       "      <th>Naive Bayes w/ MLE_other</th>\n",
       "    </tr>\n",
       "  </thead>\n",
       "  <tbody>\n",
       "    <tr>\n",
       "      <th>0</th>\n",
       "      <td>0.937214</td>\n",
       "      <td>0.937533</td>\n",
       "      <td>0.937214</td>\n",
       "      <td>0.233089</td>\n",
       "      <td>0.233513</td>\n",
       "      <td>0.233089</td>\n",
       "    </tr>\n",
       "    <tr>\n",
       "      <th>1</th>\n",
       "      <td>0.382291</td>\n",
       "      <td>0.378206</td>\n",
       "      <td>0.382291</td>\n",
       "      <td>0.697404</td>\n",
       "      <td>0.694573</td>\n",
       "      <td>0.697404</td>\n",
       "    </tr>\n",
       "    <tr>\n",
       "      <th>2</th>\n",
       "      <td>0.858499</td>\n",
       "      <td>0.858452</td>\n",
       "      <td>0.858499</td>\n",
       "      <td>0.453290</td>\n",
       "      <td>0.449837</td>\n",
       "      <td>0.453290</td>\n",
       "    </tr>\n",
       "    <tr>\n",
       "      <th>3</th>\n",
       "      <td>0.765181</td>\n",
       "      <td>0.762195</td>\n",
       "      <td>0.765181</td>\n",
       "      <td>0.605117</td>\n",
       "      <td>0.601462</td>\n",
       "      <td>0.605117</td>\n",
       "    </tr>\n",
       "    <tr>\n",
       "      <th>4</th>\n",
       "      <td>0.465993</td>\n",
       "      <td>0.465325</td>\n",
       "      <td>0.465993</td>\n",
       "      <td>0.431673</td>\n",
       "      <td>0.427246</td>\n",
       "      <td>0.431673</td>\n",
       "    </tr>\n",
       "    <tr>\n",
       "      <th>...</th>\n",
       "      <td>...</td>\n",
       "      <td>...</td>\n",
       "      <td>...</td>\n",
       "      <td>...</td>\n",
       "      <td>...</td>\n",
       "      <td>...</td>\n",
       "    </tr>\n",
       "    <tr>\n",
       "      <th>155</th>\n",
       "      <td>0.591041</td>\n",
       "      <td>0.596929</td>\n",
       "      <td>0.591041</td>\n",
       "      <td>0.694213</td>\n",
       "      <td>0.690304</td>\n",
       "      <td>0.694213</td>\n",
       "    </tr>\n",
       "    <tr>\n",
       "      <th>156</th>\n",
       "      <td>0.979794</td>\n",
       "      <td>0.979513</td>\n",
       "      <td>0.979794</td>\n",
       "      <td>0.003326</td>\n",
       "      <td>0.003381</td>\n",
       "      <td>0.003326</td>\n",
       "    </tr>\n",
       "    <tr>\n",
       "      <th>157</th>\n",
       "      <td>0.962995</td>\n",
       "      <td>0.962526</td>\n",
       "      <td>0.962995</td>\n",
       "      <td>0.009508</td>\n",
       "      <td>0.009487</td>\n",
       "      <td>0.009508</td>\n",
       "    </tr>\n",
       "    <tr>\n",
       "      <th>158</th>\n",
       "      <td>0.979794</td>\n",
       "      <td>0.979513</td>\n",
       "      <td>0.979794</td>\n",
       "      <td>0.015710</td>\n",
       "      <td>0.015758</td>\n",
       "      <td>0.015710</td>\n",
       "    </tr>\n",
       "    <tr>\n",
       "      <th>159</th>\n",
       "      <td>0.974910</td>\n",
       "      <td>0.975698</td>\n",
       "      <td>0.974910</td>\n",
       "      <td>0.344738</td>\n",
       "      <td>0.340725</td>\n",
       "      <td>0.344738</td>\n",
       "    </tr>\n",
       "  </tbody>\n",
       "</table>\n",
       "<p>160 rows × 6 columns</p>\n",
       "</div>"
      ],
      "text/plain": [
       "     Scikit_caller  Naive Bayes w/o MLE_caller  Naive Bayes w/ MLE_caller  \\\n",
       "0         0.937214                    0.937533                   0.937214   \n",
       "1         0.382291                    0.378206                   0.382291   \n",
       "2         0.858499                    0.858452                   0.858499   \n",
       "3         0.765181                    0.762195                   0.765181   \n",
       "4         0.465993                    0.465325                   0.465993   \n",
       "..             ...                         ...                        ...   \n",
       "155       0.591041                    0.596929                   0.591041   \n",
       "156       0.979794                    0.979513                   0.979794   \n",
       "157       0.962995                    0.962526                   0.962995   \n",
       "158       0.979794                    0.979513                   0.979794   \n",
       "159       0.974910                    0.975698                   0.974910   \n",
       "\n",
       "     Scikit_other  Naive Bayes w/o MLE_other  Naive Bayes w/ MLE_other  \n",
       "0        0.233089                   0.233513                  0.233089  \n",
       "1        0.697404                   0.694573                  0.697404  \n",
       "2        0.453290                   0.449837                  0.453290  \n",
       "3        0.605117                   0.601462                  0.605117  \n",
       "4        0.431673                   0.427246                  0.431673  \n",
       "..            ...                        ...                       ...  \n",
       "155      0.694213                   0.690304                  0.694213  \n",
       "156      0.003326                   0.003381                  0.003326  \n",
       "157      0.009508                   0.009487                  0.009508  \n",
       "158      0.015710                   0.015758                  0.015710  \n",
       "159      0.344738                   0.340725                  0.344738  \n",
       "\n",
       "[160 rows x 6 columns]"
      ]
     },
     "execution_count": 95,
     "metadata": {},
     "output_type": "execute_result"
    }
   ],
   "source": [
    "prob_df"
   ]
  },
  {
   "cell_type": "code",
   "execution_count": 98,
   "id": "8d628d21-69a1-4aff-acde-7f1b32966e24",
   "metadata": {},
   "outputs": [
    {
     "data": {
      "text/plain": [
       "0.049695146333979055"
      ]
     },
     "execution_count": 98,
     "metadata": {},
     "output_type": "execute_result"
    }
   ],
   "source": [
    "\n"
   ]
  },
  {
   "cell_type": "code",
   "execution_count": 99,
   "id": "cc085a58-9534-45c2-b284-47506535eae8",
   "metadata": {},
   "outputs": [
    {
     "data": {
      "text/plain": [
       "0.049695146333979055"
      ]
     },
     "execution_count": 99,
     "metadata": {},
     "output_type": "execute_result"
    }
   ],
   "source": []
  },
  {
   "cell_type": "code",
   "execution_count": 100,
   "id": "c79469e8-1f20-48dc-a2bf-3f18ff9b9985",
   "metadata": {},
   "outputs": [
    {
     "data": {
      "text/plain": [
       "0.04935827791713007"
      ]
     },
     "execution_count": 100,
     "metadata": {},
     "output_type": "execute_result"
    }
   ],
   "source": []
  },
  {
   "cell_type": "code",
   "execution_count": 176,
   "id": "8fb79810-fc4a-4f70-a5b5-bfac3eda8215",
   "metadata": {},
   "outputs": [
    {
     "data": {
      "image/png": "[encoded data removed]",
      "text/plain": [
       "<Figure size 216x126 with 1 Axes>"
      ]
     },
     "metadata": {},
     "output_type": "display_data"
    }
   ],
   "source": [
    "from sklearn import metrics\n",
    "index = [i for i in rskf.split(X,y)]\n",
    "X_train, X_test = X[index[1][0]], X[index[1][1]]\n",
    "y_train, y_test = y[index[1][0]], y[index[1][1]] \n",
    "clf.fit(X_train, y_train)\n",
    "plt.figure(figsize = (3,1.75))\n",
    "sns.set_style('white')\n",
    "fpr, tpr, thresholds = metrics.roc_curve(y_test, clf.predict_proba(X_test)[:,1])\n",
    "plt.plot(fpr,tpr)\n",
    "#nb.fit(X_train,y_train, mle = False)\n",
    "#fpr, tpr, thresholds = metrics.roc_curve(y_test, nb.predict_proba(X_test)[:,1])\n",
    "#plt.plot(fpr,tpr)\n",
    "nb.fit(X_train,y_train)\n",
    "fpr, tpr, thresholds = metrics.roc_curve(y_test, nb.predict_proba(X_test)[:,1])\n",
    "plt.plot(fpr,tpr,  alpha = 0.5, linewidth = 5)\n",
    "x = [i/100 for i in range(100)]\n",
    "plt.plot(x,x)\n",
    "plt.tight_layout()\n",
    "plt.ylabel('TPR', fontsize = 8)\n",
    "plt.xlabel('FPR',fontsize = 8)\n",
    "#plt.title('ROC Curve for Naive Bayes Classifier', fontsize = 6)\n",
    "plt.legend([\"Scikit\", \"NB w/ MLE\"])\n",
    "area = round(metrics.roc_auc_score(y_test, nb.predict_proba(X_test)[:,1] ),4)\n",
    "plt.annotate('Area = '+str(area),xy = (0.54,0.44))\n",
    "plt.savefig('ROC curve.png')\n"
   ]
  },
  {
   "cell_type": "code",
   "execution_count": 130,
   "id": "a4d61483-7aa4-4c7b-9e7f-eef91807d445",
   "metadata": {},
   "outputs": [],
   "source": []
  },
  {
   "cell_type": "code",
   "execution_count": 133,
   "id": "71c9f234-b408-4676-ab47-1dab1c09b49e",
   "metadata": {},
   "outputs": [
    {
     "data": {
      "text/plain": [
       "array([   0,    1,    2, ..., 1596, 1597, 1598])"
      ]
     },
     "execution_count": 133,
     "metadata": {},
     "output_type": "execute_result"
    }
   ],
   "source": []
  },
  {
   "cell_type": "code",
   "execution_count": null,
   "id": "b3ac06e3-d8a2-43a0-ba2f-b8c68619c81d",
   "metadata": {},
   "outputs": [],
   "source": []
  }
 ],
 "metadata": {
  "kernelspec": {
   "display_name": "Python 3 (ipykernel)",
   "language": "python",
   "name": "python3"
  },
  "language_info": {
   "codemirror_mode": {
    "name": "ipython",
    "version": 3
   },
   "file_extension": ".py",
   "mimetype": "text/x-python",
   "name": "python",
   "nbconvert_exporter": "python",
   "pygments_lexer": "ipython3",
   "version": "3.9.12"
  }
 },
 "nbformat": 4,
 "nbformat_minor": 5
}
